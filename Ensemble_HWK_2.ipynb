{
  "nbformat": 4,
  "nbformat_minor": 0,
  "metadata": {
    "colab": {
      "provenance": []
    },
    "kernelspec": {
      "name": "python3",
      "display_name": "Python 3"
    },
    "language_info": {
      "name": "python"
    }
  },
  "cells": [
    {
      "cell_type": "code",
      "execution_count": null,
      "metadata": {
        "id": "j05yfCIxaIdA"
      },
      "outputs": [],
      "source": [
        "import pandas as pd\n",
        "from sklearn.model_selection import train_test_split,\n",
        "from sklearn.metrics import accuracy_score\n",
        "from sklearn.ensemble import AdaBoostClassifier\n",
        "from sklearn.tree import DecisionTreeClassifier\n",
        "from sklearn.linear_model import LogisticRegression\n"
      ]
    },
    {
      "cell_type": "code",
      "source": [
        "\n",
        "data = { 'Magical_Being': ['Fairy', 'Goblin', 'Dragon', 'Unicorn', 'Elf', 'Phoenix', 'Troll', 'Mermaid'],\n",
        "        'Magic_Power': [85, 40, 95, 75, 70, 90, 30, 60],\n",
        "         'Agility': [80, 60, 50, 90, 70, 85, 40, 65],\n",
        "         'Intelligence': [70, 50, 85, 90, 80, 95, 45, 75],\n",
        "         'Survival': [1, 0, 1, 1, 1, 1, 0, 0] # 1 for Survive, 0 for Perish } Implement the Model:\n",
        "\n",
        "}\n",
        "\n",
        "df = pd.DataFrame(data)\n",
        "\n",
        "\n"
      ],
      "metadata": {
        "colab": {
          "base_uri": "https://localhost:8080/"
        },
        "id": "yuAsk3tkaY8g",
        "outputId": "d270d744-45e5-4e96-b138-244619248d7f"
      },
      "execution_count": null,
      "outputs": [
        {
          "output_type": "stream",
          "name": "stdout",
          "text": [
            "<bound method NDFrame.head of   Magical_Being  Magic_Power  Agility  Intelligence  Survival\n",
            "0         Fairy           85       80            70         1\n",
            "1        Goblin           40       60            50         0\n",
            "2        Dragon           95       50            85         1\n",
            "3       Unicorn           75       90            90         1\n",
            "4           Elf           70       70            80         1\n",
            "5       Phoenix           90       85            95         1\n",
            "6         Troll           30       40            45         0\n",
            "7       Mermaid           60       65            75         0>\n",
            "\n",
            "<bound method DataFrame.info of   Magical_Being  Magic_Power  Agility  Intelligence  Survival\n",
            "0         Fairy           85       80            70         1\n",
            "1        Goblin           40       60            50         0\n",
            "2        Dragon           95       50            85         1\n",
            "3       Unicorn           75       90            90         1\n",
            "4           Elf           70       70            80         1\n",
            "5       Phoenix           90       85            95         1\n",
            "6         Troll           30       40            45         0\n",
            "7       Mermaid           60       65            75         0>\n",
            "\n",
            "<bound method NDFrame.describe of   Magical_Being  Magic_Power  Agility  Intelligence  Survival\n",
            "0         Fairy           85       80            70         1\n",
            "1        Goblin           40       60            50         0\n",
            "2        Dragon           95       50            85         1\n",
            "3       Unicorn           75       90            90         1\n",
            "4           Elf           70       70            80         1\n",
            "5       Phoenix           90       85            95         1\n",
            "6         Troll           30       40            45         0\n",
            "7       Mermaid           60       65            75         0>\n"
          ]
        }
      ]
    },
    {
      "cell_type": "code",
      "source": [
        "X = df[['Magic_Power', 'Intelligence', 'Agility']]\n",
        "y = df['Survival']"
      ],
      "metadata": {
        "id": "1St9SzL1av-a"
      },
      "execution_count": null,
      "outputs": []
    },
    {
      "cell_type": "code",
      "source": [
        "X_train, X_test, y_train, y_test = train_test_split(X, y, test_size=0.25, random_state=42)"
      ],
      "metadata": {
        "id": "C9a1LxC_bWaT"
      },
      "execution_count": null,
      "outputs": []
    },
    {
      "cell_type": "code",
      "source": [
        "boosting_model = AdaBoostClassifier(DecisionTreeClassifier(max_depth=1), n_estimators=50, random_state=42)\n",
        "boosting_model.fit(X_train, y_train)\n",
        "y_pred = boosting_model.predict(X_test)"
      ],
      "metadata": {
        "id": "uqP9t-i6cbcL"
      },
      "execution_count": null,
      "outputs": []
    },
    {
      "cell_type": "code",
      "source": [
        "accuracy = accuracy_score(y_test, y_pred)\n",
        "print(f\"AdaBoost Accuracy{accuracy :.2f}\")"
      ],
      "metadata": {
        "colab": {
          "base_uri": "https://localhost:8080/"
        },
        "id": "CYEw3VVKdONm",
        "outputId": "539f2055-7aea-4aeb-a7b0-70cebfdd1d6a"
      },
      "execution_count": null,
      "outputs": [
        {
          "output_type": "stream",
          "name": "stdout",
          "text": [
            "AdaBoost Accuracy1.00\n"
          ]
        }
      ]
    },
    {
      "cell_type": "code",
      "source": [
        "new_being = pd.DataFrame({'Magic_Power':[65], 'Intelligence':[65], 'Agility':[50]})\n",
        "predicted_outcome = boosting_model.predict(new_being)\n",
        "print(f'Predicted Survival Outcome for new creature: {\"Survive\" if predicted_outcome[0] == 1 else \"Die\"}')"
      ],
      "metadata": {
        "colab": {
          "base_uri": "https://localhost:8080/"
        },
        "id": "wv2_60taeFG_",
        "outputId": "eb62e2d5-9610-41fc-e6bd-130c4de24f8b"
      },
      "execution_count": null,
      "outputs": [
        {
          "output_type": "stream",
          "name": "stdout",
          "text": [
            "Predicted Survival Outcome for new creature: Die\n"
          ]
        }
      ]
    }
  ]
}